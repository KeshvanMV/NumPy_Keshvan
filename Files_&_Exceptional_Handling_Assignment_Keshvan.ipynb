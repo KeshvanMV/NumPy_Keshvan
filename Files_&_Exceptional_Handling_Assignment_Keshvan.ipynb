{
  "nbformat": 4,
  "nbformat_minor": 0,
  "metadata": {
    "colab": {
      "provenance": [],
      "authorship_tag": "ABX9TyPdh5RmXnJFsvOwRxY+gQ+m",
      "include_colab_link": true
    },
    "kernelspec": {
      "name": "python3",
      "display_name": "Python 3"
    },
    "language_info": {
      "name": "python"
    }
  },
  "cells": [
    {
      "cell_type": "markdown",
      "metadata": {
        "id": "view-in-github",
        "colab_type": "text"
      },
      "source": [
        "<a href=\"https://colab.research.google.com/github/KeshvanMV/PWSkills_Assignment_Keshvan/blob/main/Files_%26_Exceptional_Handling_Assignment_Keshvan.ipynb\" target=\"_parent\"><img src=\"https://colab.research.google.com/assets/colab-badge.svg\" alt=\"Open In Colab\"/></a>"
      ]
    },
    {
      "cell_type": "code",
      "execution_count": 10,
      "metadata": {
        "colab": {
          "base_uri": "https://localhost:8080/"
        },
        "id": "hXKw5tKW0NpI",
        "outputId": "57da7627-a211-4cee-ec4e-93d88808ac4e"
      },
      "outputs": [
        {
          "output_type": "stream",
          "name": "stdout",
          "text": [
            "Added 0 to the list: [0]\n",
            "Removed 0 from the list: []\n",
            "Added 1 to the list: [1]\n",
            "Removed 1 from the list: []\n",
            "Added 2 to the list: [2]\n",
            "Removed 2 from the list: []\n",
            "Added 3 to the list: [3]\n",
            "Removed 3 from the list: []\n",
            "Added 4 to the list: [4]\n",
            "Removed 4 from the list: []\n",
            "Final list: []\n",
            "\n",
            "The program finished in 0.5 seconds.\n"
          ]
        }
      ],
      "source": [
        "#Q4. Write a Python program using multithreading where one thread adds numbers to a list, and another thread removes numbers from the list. Implement a mechanism to avoid race conditions using threading.Lock.\n",
        "\n",
        "import threading\n",
        "import time\n",
        "\n",
        "start = time.perf_counter()\n",
        "shared_list = []\n",
        "lock = threading.Lock()\n",
        "\n",
        "def add_numbers():\n",
        "    for i in range(5):\n",
        "        with lock:\n",
        "            shared_list.append(i)\n",
        "            print(f\"Added {i} to the list: {shared_list}\")\n",
        "        time.sleep(0.1)\n",
        "\n",
        "def remove_numbers():\n",
        "    for _ in range(5):\n",
        "        with lock:\n",
        "            if shared_list:\n",
        "                removed = shared_list.pop()\n",
        "                print(f\"Removed {removed} from the list: {shared_list}\")\n",
        "        time.sleep(0.1)\n",
        "\n",
        "t1 = threading.Thread(target=add_numbers)\n",
        "t2 = threading.Thread(target=remove_numbers)\n",
        "\n",
        "# Start both threads\n",
        "t1.start()\n",
        "t2.start()\n",
        "\n",
        "# Wait for both threads to finish\n",
        "t1.join()\n",
        "t2.join()\n",
        "\n",
        "end = time.perf_counter()\n",
        "\n",
        "print(\"Final list:\", shared_list)\n",
        "print(f\"\\nThe program finished in {round(end-start, 2)} seconds.\")\n"
      ]
    },
    {
      "cell_type": "code",
      "source": [
        "#Q7. Create a program that uses a thread pool to calculate the factorial of numbers from 1 to 10 concurrently. Use concurrent.futures.ThreadPoolExecutor to manage the threads.\n",
        "\n",
        "import concurrent.futures\n",
        "import concurrent.futures\n",
        "import time\n",
        "\n",
        "start = time.perf_counter()\n",
        "\n",
        "# Function to calculate factorial\n",
        "def factorial(n):\n",
        "    \"\"\"Calculates factorial of a number n\"\"\"\n",
        "    result = 1\n",
        "    for i in range(1, n + 1):\n",
        "        result *= i\n",
        "    return result\n",
        "\n",
        "# Code to calculate factorial concurrently\n",
        "numbers = range(1, 11)\n",
        "\n",
        "# We use ThreadPoolExecutor to manage a pool of threads that concurrently calculate the factorial of each number.\n",
        "with concurrent.futures.ThreadPoolExecutor() as executor:\n",
        "    # Map the factorial function to the list of numbers\n",
        "    results = list(executor.map(factorial, numbers))\n",
        "\n",
        "# Display the results without using zip\n",
        "for i in range(len(numbers)):\n",
        "    print(f\"Factorial of {numbers[i]} is {results[i]}\")\n",
        "\n",
        "end = time.perf_counter()\n",
        "print(f\"\\nThe program finished in {round(end-start, 2)} seconds.\")\n"
      ],
      "metadata": {
        "colab": {
          "base_uri": "https://localhost:8080/"
        },
        "id": "b-Sl5O_i0a5k",
        "outputId": "7c3f8022-f37d-46ff-bccb-0e2953546c89"
      },
      "execution_count": 9,
      "outputs": [
        {
          "output_type": "stream",
          "name": "stdout",
          "text": [
            "Factorial of 1 is 1\n",
            "Factorial of 2 is 2\n",
            "Factorial of 3 is 6\n",
            "Factorial of 4 is 24\n",
            "Factorial of 5 is 120\n",
            "Factorial of 6 is 720\n",
            "Factorial of 7 is 5040\n",
            "Factorial of 8 is 40320\n",
            "Factorial of 9 is 362880\n",
            "Factorial of 10 is 3628800\n",
            "\n",
            "The program finished in 0.01 seconds.\n"
          ]
        }
      ]
    },
    {
      "cell_type": "code",
      "source": [
        "#Q8. Create a Python program that uses multiprocessing.Pool to compute the square of numbers from 1 to 10 in parallel.\n",
        "  #Measure the time taken to perform this computation using a pool of different sizes (e.g., 2, 4, 8 processes).\n",
        "\n",
        "import multiprocessing\n",
        "import time\n",
        "\n",
        "# Function to compute square\n",
        "def square(n):\n",
        "    return n * n\n",
        "\n",
        "# Measure time for different pool sizes\n",
        "for pool_size in [2, 4, 8]:\n",
        "    start_time = time.time()\n",
        "\n",
        "    with multiprocessing.Pool(pool_size) as pool:\n",
        "        results = pool.map(square, range(1, 11))\n",
        "\n",
        "    print(f'Pool size: {pool_size}, Results: {results}, Time: {time.time() - start_time}')\n"
      ],
      "metadata": {
        "colab": {
          "base_uri": "https://localhost:8080/"
        },
        "id": "od93IUwo0pkO",
        "outputId": "0b0c9d8c-146a-4fb9-cdf4-7eeb8d3d2dbc"
      },
      "execution_count": 15,
      "outputs": [
        {
          "output_type": "stream",
          "name": "stdout",
          "text": [
            "Pool size: 2, Results: [1, 4, 9, 16, 25, 36, 49, 64, 81, 100], Time: 0.03047466278076172\n",
            "Pool size: 4, Results: [1, 4, 9, 16, 25, 36, 49, 64, 81, 100], Time: 0.05275082588195801\n",
            "Pool size: 8, Results: [1, 4, 9, 16, 25, 36, 49, 64, 81, 100], Time: 0.0952763557434082\n"
          ]
        }
      ]
    },
    {
      "cell_type": "code",
      "source": [],
      "metadata": {
        "id": "487Qo6zw014-"
      },
      "execution_count": null,
      "outputs": []
    }
  ]
}