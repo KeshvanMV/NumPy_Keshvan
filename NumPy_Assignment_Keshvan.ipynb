{
  "nbformat": 4,
  "nbformat_minor": 0,
  "metadata": {
    "colab": {
      "provenance": []
    },
    "kernelspec": {
      "name": "python3",
      "display_name": "Python 3"
    },
    "language_info": {
      "name": "python"
    }
  },
  "cells": [
    {
      "cell_type": "code",
      "execution_count": null,
      "metadata": {
        "colab": {
          "base_uri": "https://localhost:8080/"
        },
        "id": "RtpLbmkmF2Dq",
        "outputId": "ca5f2f4d-30e9-4b26-b7bd-05f67a3c8671"
      },
      "outputs": [
        {
          "output_type": "stream",
          "name": "stdout",
          "text": [
            "A 3x3 Array with random integers between 1 and 100:\n",
            " [[41 16 87]\n",
            " [ 7  0 17]\n",
            " [65 40 89]]\n",
            "Array after interchanging its rows and columns:\n",
            " [[41  7 65]\n",
            " [16  0 40]\n",
            " [87 17 89]]\n"
          ]
        }
      ],
      "source": [
        "# Q1. Create a 3x3 NumPy array with random integers between 1 and 100. Then, interchange its rows and columns.\n",
        "\n",
        "import numpy as np\n",
        "\n",
        "# Generate a 3x3 array with random integers between 0 and 100\n",
        "array_3x3 = np.random.randint(0, 101, (3, 3))\n",
        "\n",
        "# Transpose the array (interchange rows and columns)\n",
        "transpose_array = array_3x3.T\n",
        "\n",
        "# Print the original and transposed arrays\n",
        "print(\"A 3x3 Array with random integers between 1 and 100:\\n\", array_3x3)\n",
        "print(\"Array after interchanging its rows and columns:\\n\", transpose_array)\n"
      ]
    },
    {
      "cell_type": "code",
      "source": [
        "# Q2. Generate a 1D NumPy array with 10 elements. Reshape it into a 2x5 array, then into a 5x2 array.\n",
        "\n",
        "import numpy as np\n",
        "\n",
        "# Generate a 1D array with 10 elements (0 to 9)\n",
        "initial_array = np.arange(10)\n",
        "\n",
        "# Reshape the 1D array into a 2x5 array\n",
        "array_2x5 = initial_array.reshape((2, 5))\n",
        "\n",
        "# Reshape the 2x5 array into a 5x2 array\n",
        "array_5x2 = array_2x5.reshape((5, 2))\n",
        "\n",
        "# Print the original array and the reshaped arrays\n",
        "print(\"The original 1D array is:\", initial_array)\n",
        "print(\"Reshaped 2x5 array:\\n\", array_2x5)\n",
        "print(\"Reshaped 5x2 array:\\n\", array_5x2)"
      ],
      "metadata": {
        "colab": {
          "base_uri": "https://localhost:8080/"
        },
        "id": "tkCnKf0oG2-5",
        "outputId": "d93079d5-6b94-48f8-e59b-c9102f82e3ad"
      },
      "execution_count": null,
      "outputs": [
        {
          "output_type": "stream",
          "name": "stdout",
          "text": [
            "The original 1D array is: [0 1 2 3 4 5 6 7 8 9]\n",
            "Reshaped 2x5 array:\n",
            " [[0 1 2 3 4]\n",
            " [5 6 7 8 9]]\n",
            "Reshaped 5x2 array:\n",
            " [[0 1]\n",
            " [2 3]\n",
            " [4 5]\n",
            " [6 7]\n",
            " [8 9]]\n"
          ]
        }
      ]
    },
    {
      "cell_type": "code",
      "source": [
        "# Q3. Create a 4x4 NumPy array with random float values. Add a border of zeros around it, resulting in a 6x6 array.\n",
        "\n",
        "import numpy as np\n",
        "\n",
        "# Create a 4x4 array with random float values\n",
        "random_float_4x4 = np.random.rand(4, 4)\n",
        "\n",
        "# Create a 6x6 array filled with zeros (to serve as the border)\n",
        "zeros_6x6 = np.zeros((6, 6), dtype=float)\n",
        "\n",
        "# Place the 4x4 array in the center of the 6x6 array\n",
        "zeros_6x6[1:-1, 1:-1] = random_float_4x4\n",
        "\n",
        "# Print the resulting 6x6 array\n",
        "print(\"4x4 array with random float values:\\n\", random_float_4x4)\n",
        "\n",
        "print(\"6x6 array with a border of zeros:\\n\", zeros_6x6)\n"
      ],
      "metadata": {
        "id": "ugyKWzxBJhPy",
        "colab": {
          "base_uri": "https://localhost:8080/"
        },
        "outputId": "25828adb-7b7a-4b75-9c2b-a924d7156fa4"
      },
      "execution_count": null,
      "outputs": [
        {
          "output_type": "stream",
          "name": "stdout",
          "text": [
            "4x4 array with random float values:\n",
            " [[0.83368492 0.28382963 0.85662594 0.82161337]\n",
            " [0.79475339 0.88989822 0.42555051 0.3041689 ]\n",
            " [0.61245641 0.68215469 0.82120933 0.72466713]\n",
            " [0.94383804 0.06789861 0.0603325  0.99570669]]\n",
            "6x6 array with a border of zeros:\n",
            " [[0.         0.         0.         0.         0.         0.        ]\n",
            " [0.         0.83368492 0.28382963 0.85662594 0.82161337 0.        ]\n",
            " [0.         0.79475339 0.88989822 0.42555051 0.3041689  0.        ]\n",
            " [0.         0.61245641 0.68215469 0.82120933 0.72466713 0.        ]\n",
            " [0.         0.94383804 0.06789861 0.0603325  0.99570669 0.        ]\n",
            " [0.         0.         0.         0.         0.         0.        ]]\n"
          ]
        }
      ]
    },
    {
      "cell_type": "code",
      "source": [
        "# Q4. Using NumPy, create an array of integers from 10 to 60 with a step of 5.\n",
        "\n",
        "import numpy as np\n",
        "\n",
        "# Create an array of integers from 10 to 60 with a step of 5\n",
        "array_step5 = np.arange(10, 61, 5)\n",
        "\n",
        "# Print the resulting array\n",
        "print(\"An array of integers from 10 to 60 with a step of 5 is:\", array_step5)\n"
      ],
      "metadata": {
        "colab": {
          "base_uri": "https://localhost:8080/"
        },
        "id": "-OiCNu-nJui_",
        "outputId": "5b6f202b-d8ce-4b26-b537-05fd63a73e5d"
      },
      "execution_count": null,
      "outputs": [
        {
          "output_type": "stream",
          "name": "stdout",
          "text": [
            "An array of integers from 10 to 60 with a step of 5 is: [10 15 20 25 30 35 40 45 50 55 60]\n"
          ]
        }
      ]
    },
    {
      "cell_type": "code",
      "source": [
        "#Q5. Create a NumPy array of strings ['python', 'numpy', 'pandas']. Apply different case transformations (uppercase, lowercase, title case, etc.) to each element.\n",
        "\n",
        "import numpy as np\n",
        "\n",
        "# Create a NumPy array of strings\n",
        "string_array = np.array(['python', 'numpy', 'pandas'])\n",
        "\n",
        "# Apply different case transformations\n",
        "uppercase_array = np.char.upper(string_array)\n",
        "lowercase_array = np.char.lower(uppercase_array)\n",
        "titlecase_array = np.char.title(string_array)\n",
        "capitalize_array = np.char.capitalize(string_array)\n",
        "\n",
        "# Print the original array and transformed arrays\n",
        "print(\"Original array:\")\n",
        "print(string_array)\n",
        "print()\n",
        "\n",
        "print(\"Uppercase array:\")\n",
        "print(uppercase_array)\n",
        "print()\n",
        "\n",
        "print(\"Lowercase array:\")\n",
        "print(lowercase_array)\n",
        "print()\n",
        "\n",
        "print(\"Title case array:\")\n",
        "print(titlecase_array)\n",
        "print()\n",
        "\n",
        "print(\"Capitalized array:\")\n",
        "print(capitalize_array)\n"
      ],
      "metadata": {
        "colab": {
          "base_uri": "https://localhost:8080/"
        },
        "id": "0Utyp6c6KWLT",
        "outputId": "66422d7c-96a2-4189-d9ad-055ec608bf2e"
      },
      "execution_count": null,
      "outputs": [
        {
          "output_type": "stream",
          "name": "stdout",
          "text": [
            "Original array:\n",
            "['python' 'numpy' 'pandas']\n",
            "\n",
            "Uppercase array:\n",
            "['PYTHON' 'NUMPY' 'PANDAS']\n",
            "\n",
            "Lowercase array:\n",
            "['python' 'numpy' 'pandas']\n",
            "\n",
            "Title case array:\n",
            "['Python' 'Numpy' 'Pandas']\n",
            "\n",
            "Capitalized array:\n",
            "['Python' 'Numpy' 'Pandas']\n"
          ]
        }
      ]
    },
    {
      "cell_type": "code",
      "source": [
        "# Q7. Create two 2D NumPy arrays and perform element-wise addition, subtraction, multiplication, and division.\n",
        "\n",
        "import numpy as np\n",
        "\n",
        "# Create two 2D NumPy arrays with random integers\n",
        "a_int = np.random.randint(10, 20, (3, 3))\n",
        "b_float = np.random.randint(50, 100, (3, 3))\n",
        "\n",
        "# Perform element-wise operations\n",
        "addition = a_int + b_float\n",
        "subtraction = b_float - a_int\n",
        "multiplication = a_int * b_float\n",
        "division = b_float / a_int\n",
        "\n",
        "# Print the arrays and results\n",
        "print(\"Array 1 = \\n\", a_int)\n",
        "print(\"Array 2 = \\n\", b_float)\n",
        "print(\"Addition = \\n\", addition)\n",
        "print(\"Subtraction = \\n\", subtraction)\n",
        "print(\"Multiplication = \\n\", multiplication)\n",
        "print(\"Division = \\n\", division)\n"
      ],
      "metadata": {
        "colab": {
          "base_uri": "https://localhost:8080/"
        },
        "id": "Y5r18o6LKp2Y",
        "outputId": "bcf3460d-be35-4f27-9adb-e0ad0ef03e08"
      },
      "execution_count": null,
      "outputs": [
        {
          "output_type": "stream",
          "name": "stdout",
          "text": [
            "Array 1 = \n",
            " [[11 10 12]\n",
            " [19 11 18]\n",
            " [10 12 10]]\n",
            "Array 2 = \n",
            " [[79 67 93]\n",
            " [88 62 69]\n",
            " [53 63 75]]\n",
            "Addition = \n",
            " [[ 90  77 105]\n",
            " [107  73  87]\n",
            " [ 63  75  85]]\n",
            "Subtraction = \n",
            " [[68 57 81]\n",
            " [69 51 51]\n",
            " [43 51 65]]\n",
            "Multiplication = \n",
            " [[ 869  670 1116]\n",
            " [1672  682 1242]\n",
            " [ 530  756  750]]\n",
            "Division = \n",
            " [[7.18181818 6.7        7.75      ]\n",
            " [4.63157895 5.63636364 3.83333333]\n",
            " [5.3        5.25       7.5       ]]\n"
          ]
        }
      ]
    },
    {
      "cell_type": "code",
      "source": [
        "# Q8: Use NumPy to create a 5x5 identity matrix, then extract its diagonal elements\n",
        "\n",
        "import numpy as np\n",
        "\n",
        "# Create a 5x5 identity matrix using NumPy\n",
        "identity_matrix = np.identity(5)\n",
        "\n",
        "# Function to extract diagonal elements\n",
        "def extract_diagonal(matrix):\n",
        "    diagonal_elements = []\n",
        "    for i in range(5):\n",
        "        diagonal_elements.append(matrix[i, i])\n",
        "    return diagonal_elements\n",
        "\n",
        "# Call the function to get diagonal elements\n",
        "diagonal_elements = extract_diagonal(identity_matrix)\n",
        "\n",
        "# Display results\n",
        "print(\"Identity Matrix:\")\n",
        "print(identity_matrix)\n",
        "print(\"\\nDiagonal Elements:\")\n",
        "print(diagonal_elements)\n"
      ],
      "metadata": {
        "colab": {
          "base_uri": "https://localhost:8080/"
        },
        "id": "HAMu_36hLL2T",
        "outputId": "87046763-8395-4f27-8ba1-0f7f8b468e05"
      },
      "execution_count": null,
      "outputs": [
        {
          "output_type": "stream",
          "name": "stdout",
          "text": [
            "Identity Matrix:\n",
            "[[1. 0. 0. 0. 0.]\n",
            " [0. 1. 0. 0. 0.]\n",
            " [0. 0. 1. 0. 0.]\n",
            " [0. 0. 0. 1. 0.]\n",
            " [0. 0. 0. 0. 1.]]\n",
            "\n",
            "Diagonal Elements:\n",
            "[1.0, 1.0, 1.0, 1.0, 1.0]\n"
          ]
        }
      ]
    },
    {
      "cell_type": "code",
      "source": [
        "#Q9. Generate a NumPy array of 100 random integers between 0 and 1000. Find and display all prime numbers in this array.\n",
        "\n",
        "import numpy as np\n",
        "\n",
        "# Generate a NumPy array of 100 random integers between 0 and 1000\n",
        "y = np.random.randint(0, 1001, 100)\n",
        "\n",
        "# Function to check if a number is prime\n",
        "def checking_prime(x):\n",
        "    if x < 2:\n",
        "        return False\n",
        "    if x == 2:\n",
        "        return True\n",
        "    if x % 2 == 0:\n",
        "        return False\n",
        "\n",
        "    maximum_range = int(x**0.5) + 1\n",
        "    for i in range(3, maximum_range, 2):\n",
        "        if x % i == 0:\n",
        "            return False\n",
        "    return True\n",
        "\n",
        "# Function to find all prime numbers in the array\n",
        "def find_primes(array):\n",
        "    prime_numbers = []\n",
        "    for num in array:\n",
        "        if checking_prime(num):\n",
        "            prime_numbers.append(num)\n",
        "    return prime_numbers\n",
        "\n",
        "# Find and display all prime numbers in the generated array\n",
        "prime_list = find_primes(y)\n",
        "print(\"Prime numbers in the array:\")\n",
        "print(prime_list)\n"
      ],
      "metadata": {
        "colab": {
          "base_uri": "https://localhost:8080/"
        },
        "id": "ZOHJbbNDLa1z",
        "outputId": "a85e8092-1c82-4550-f2a0-650e774a9437"
      },
      "execution_count": null,
      "outputs": [
        {
          "output_type": "stream",
          "name": "stdout",
          "text": [
            "Prime numbers in the array:\n",
            "[997, 811, 439, 359, 809, 701, 593, 109, 991, 109, 293, 557, 853, 269, 23, 587]\n"
          ]
        }
      ]
    },
    {
      "cell_type": "code",
      "source": [
        "#Q10. Create a NumPy array representing daily temperatures for a month. Calculate and display the weekly averages.\n",
        "\n",
        "import numpy as np\n",
        "\n",
        "# Daily temperatures for June\n",
        "Temp_list = [30, 32, 30, 31, 31, 31, 30, 30, 31, 31, 31, 29, 31, 32, 31, 31, 31, 31, 31, 29, 30, 29, 29, 28, 29, 29, 27, 31, 31, 30]\n",
        "\n",
        "# Convert the list to a NumPy array\n",
        "June_temp = np.array(Temp_list, dtype=float)\n",
        "\n",
        "# Calculate weekly averages\n",
        "week_1 = np.mean(June_temp[0:7])\n",
        "week_2 = np.mean(June_temp[7:14])\n",
        "week_3 = np.mean(June_temp[14:21])\n",
        "week_4 = np.mean(June_temp[21:28])\n",
        "\n",
        "# Display the daily temperatures\n",
        "print(f\"Daily temperatures for June: \\n{June_temp}\\n\")\n",
        "\n",
        "# Display the weekly averages\n",
        "print(f\"The weekly averages are as follows:\\n Week 1 : {week_1} \\n Week 2 : {week_2} \\n Week 3 : {week_3} \\n Week 4 : {week_4}\")\n"
      ],
      "metadata": {
        "colab": {
          "base_uri": "https://localhost:8080/"
        },
        "id": "bWDeX5YjLfpq",
        "outputId": "ba0abfaf-5327-4a48-8119-fd28ad0a7236"
      },
      "execution_count": null,
      "outputs": [
        {
          "output_type": "stream",
          "name": "stdout",
          "text": [
            "Daily temperatures for June: \n",
            "[30. 32. 30. 31. 31. 31. 30. 30. 31. 31. 31. 29. 31. 32. 31. 31. 31. 31.\n",
            " 31. 29. 30. 29. 29. 28. 29. 29. 27. 31. 31. 30.]\n",
            "\n",
            "The weekly averages are as follows:\n",
            " Week 1 : 30.714285714285715 \n",
            " Week 2 : 30.714285714285715 \n",
            " Week 3 : 30.571428571428573 \n",
            " Week 4 : 28.857142857142858\n"
          ]
        }
      ]
    },
    {
      "cell_type": "code",
      "source": [],
      "metadata": {
        "id": "w837GeUtN_ts"
      },
      "execution_count": null,
      "outputs": []
    }
  ]
}