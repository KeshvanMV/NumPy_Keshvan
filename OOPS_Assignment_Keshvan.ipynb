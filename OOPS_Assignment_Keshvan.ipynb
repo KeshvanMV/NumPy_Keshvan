{
  "nbformat": 4,
  "nbformat_minor": 0,
  "metadata": {
    "colab": {
      "provenance": [],
      "authorship_tag": "ABX9TyNN5zDhnZSjR0cnqGeKDh1e",
      "include_colab_link": true
    },
    "kernelspec": {
      "name": "python3",
      "display_name": "Python 3"
    },
    "language_info": {
      "name": "python"
    }
  },
  "cells": [
    {
      "cell_type": "markdown",
      "metadata": {
        "id": "view-in-github",
        "colab_type": "text"
      },
      "source": [
        "<a href=\"https://colab.research.google.com/github/KeshvanMV/PWSkills_Assignment_Keshvan/blob/main/OOPS_Assignment_Keshvan.ipynb\" target=\"_parent\"><img src=\"https://colab.research.google.com/assets/colab-badge.svg\" alt=\"Open In Colab\"/></a>"
      ]
    },
    {
      "cell_type": "markdown",
      "source": [
        "**Q1. What are the five key concepts of Object-Oriented Programming (OOP)?**\n",
        "**Ans:** Object-Oriented Programming (OOP) is a paradigm in computer programming that organizes software design around objects rather than functions or logic. The five key concepts of OOP are:\n",
        "\n",
        "**Encapsulation:** Encapsulation is like wrapping up data and methods into a single unit, called a class. It allows you to hide the internal details and expose only what’s necessary. Think of it as a protective shield that keeps the data safe from outside interference and misuse. For example, a car's engine is encapsulated; you don't need to know how it works to drive the car.\n",
        "\n",
        "**Abstraction:** Abstraction involves simplifying complex systems by modeling classes appropriate to the problem. It focuses on the essential qualities of an object rather than the specific details. It's like a blueprint of a house; you know the rooms and layout without needing to know the exact number of bricks used.\n",
        "\n",
        "**Inheritance:** Inheritance allows a new class to inherit attributes and methods from an existing class, promoting code reusability. It’s like a child inheriting traits from their parents. For example, if you have a Vehicle class, a Car class can inherit properties like wheels and engine from Vehicle.\n",
        "\n",
        "**Polymorphism:** Polymorphism means \"many forms\" and allows objects of different classes to be treated as objects of a common superclass. It enables a single function or method to work in different ways depending on the object it is acting upon. For instance, a draw() method could be used to draw different shapes like circles or squares, depending on the object calling it.\n",
        "\n",
        "**Association, Aggregation, and Composition:** These are relationships between objects.\n",
        "\n",
        " - Association: A general relationship between objects, where one object uses or interacts with another.\n",
        "\n",
        " - Aggregation: A special type of association where one object is a part of another but can exist independently (e.g., a department and its professors).\n",
        "\n",
        " - Composition: A stronger form of aggregation where one object cannot exist without the other (e.g., a house and its rooms)."
      ],
      "metadata": {
        "id": "u8umthK81lVg"
      }
    },
    {
      "cell_type": "code",
      "source": [
        "# Q2. Write a Python class for a `Car` with attributes for `make`, `model`, and `year`. Include a method to display the car's information.\n",
        "\n",
        "class Car:\n",
        "    def __init__(self, make, model, year):\n",
        "        self.make = make\n",
        "        self.model = model\n",
        "        self.year = year\n",
        "\n",
        "    def display_info(self):\n",
        "        print(f\"The car is a {self.year} {self.make} {self.model}.\")\n",
        "\n",
        "# Creating an instance of the Car class\n",
        "my_car = Car(make=\"Toyota\", model=\"Corolla\", year=2022)\n",
        "\n",
        "# Displaying the car's information\n",
        "my_car.display_info()\n"
      ],
      "metadata": {
        "colab": {
          "base_uri": "https://localhost:8080/"
        },
        "id": "814UXQcDrsRO",
        "outputId": "1148aa9a-1455-465c-c152-242ae59efc66"
      },
      "execution_count": null,
      "outputs": [
        {
          "output_type": "stream",
          "name": "stdout",
          "text": [
            "The car is a 2022 Toyota Corolla.\n"
          ]
        }
      ]
    },
    {
      "cell_type": "markdown",
      "source": [
        "**Q3. Explain the difference between instance methods and class methods. Provide an example of each.**\n",
        "\n",
        "**Ans:** Instance methods and class methods are both types of methods in Python, but they have different behaviors and use cases:\n",
        "\n",
        "**Instance Methods:**\n",
        "\n",
        "These are the most common type of methods in a class.\n",
        "They operate on an instance of the class and can access and modify the instance’s attributes.\n",
        "You need to create an object (instance) of the class to call these methods.\n",
        "The first parameter of an instance method is always self, which refers to the instance itself."
      ],
      "metadata": {
        "id": "pXO521Bv2MWB"
      }
    },
    {
      "cell_type": "code",
      "source": [
        "# Example for Instance Method:\n",
        "class Dog:\n",
        "    def __init__(self, name):\n",
        "        self.name = name\n",
        "\n",
        "    def bark(self):  # Instance method\n",
        "        return f\"{self.name} is barking.\"\n",
        "\n",
        "dog = Dog(\"Buddy\")\n",
        "print(dog.bark())  # Output: Buddy is barking.\n"
      ],
      "metadata": {
        "id": "am7Ul36_463J"
      },
      "execution_count": null,
      "outputs": []
    },
    {
      "cell_type": "markdown",
      "source": [
        "**Class Methods:**\n",
        "\n",
        "These methods are bound to the class and not the instance of the class.\n",
        "They can access or modify the class state that applies across all instances.\n",
        "The first parameter of a class method is cls, which refers to the class itself.\n",
        "They are usually defined using the @classmethod decorator."
      ],
      "metadata": {
        "id": "qmzHsRdr4-UD"
      }
    },
    {
      "cell_type": "code",
      "source": [
        "# Example for Class Method:\n",
        "class Dog:\n",
        "    species = \"Canis lupus familiaris\"  # Class attribute\n",
        "\n",
        "    def __init__(self, name):\n",
        "        self.name = name\n",
        "\n",
        "    @classmethod\n",
        "    def species_info(cls):  # Class method\n",
        "        return f\"All dogs belong to the species: {cls.species}\"\n",
        "\n",
        "print(Dog.species_info())  # Output: All dogs belong to the species: Canis lupus familiaris\n"
      ],
      "metadata": {
        "id": "tEu_Wg0V49iE"
      },
      "execution_count": null,
      "outputs": []
    },
    {
      "cell_type": "markdown",
      "source": [
        "**Q4. How does Python implement method overloading? Give an example.**\n",
        "\n",
        "**Ans:** In many programming languages, method overloading allows a class to have multiple methods with the same name but different signatures (number or types of parameters). However, Python does not support traditional method overloading. Instead, Python achieves a similar effect by using default arguments or variable-length arguments (*args and **kwargs) within a single method definition.\n",
        "\n",
        "For example, in the code written below, the add method can handle one, two, or three arguments by providing default values for b and c. This is how Python mimics method overloading."
      ],
      "metadata": {
        "id": "-3Oniv1j5WVv"
      }
    },
    {
      "cell_type": "code",
      "source": [
        "# Example for implementation of method overlodding\n",
        "class MathOperations:\n",
        "    def add(self, a, b=0, c=0):  # Single method handles different cases\n",
        "        return a + b + c\n",
        "\n",
        "math_op = MathOperations()\n",
        "\n",
        "# Different calls depending on the number of arguments\n",
        "print(math_op.add(5))        # Output: 5\n",
        "print(math_op.add(5, 10))    # Output: 15\n",
        "print(math_op.add(5, 10, 15))  # Output: 30\n"
      ],
      "metadata": {
        "id": "Hxt9yvKA5rVa"
      },
      "execution_count": null,
      "outputs": []
    },
    {
      "cell_type": "markdown",
      "source": [
        "**Q5. What are the three types of access modifiers in Python? How are they denoted?**\n",
        "\n",
        "**Ans:** There are three types of access modifiers: **Public, Protected, and Private.**\n",
        "- **Public members**, which are accessible from anywhere, are denoted by simply naming the attribute or method without any leading underscores (e.g., self.name).\n",
        "- **Protected members** are intended to be accessible only within the class and its subclasses. They are denoted by a single leading underscore (e.g., _age). However, this is just a convention and doesn't prevent access from outside the class.\n",
        "- **Private members** are meant to be accessible only within the class in which they are defined. They are denoted by a double leading underscore (e.g., __salary). This triggers name mangling, which makes it harder (but not impossible) to access these attributes or methods from outside the class. This approach provides a way to encapsulate and protect data while still allowing flexibility in how it's accessed and modified."
      ],
      "metadata": {
        "id": "mO3X4m2A6JtP"
      }
    },
    {
      "cell_type": "markdown",
      "source": [
        "**Q6. Describe the five types of inheritance in Python. Provide a simple example of multiple inheritance.**\n",
        "\n",
        "**Ans:** Inheritance in Python comes in five forms: **Single, Multiple, Multilevel, Hierarchical, and Hybrid Inheritance**.\n",
        "- Single inheritance involves a child class inheriting from one parent class.\n",
        "- Multiple inheritance allows a child class to inherit from more than one parent class, combining behaviors from multiple sources.\n",
        "- Multilevel inheritance occurs when a child class inherits from a parent class, which itself inherits from another class, forming a chain.\n",
        "- Hierarchical inheritance involves multiple child classes inheriting from the same parent class.\n",
        "- Hybrid inheritance is a combination of two or more types of inheritance.\n",
        "\n"
      ],
      "metadata": {
        "id": "y1P83Nk468DU"
      }
    },
    {
      "cell_type": "code",
      "source": [
        "# Example for Multiple inheritance\n",
        "class Engine:\n",
        "    def start(self):\n",
        "        return \"Engine started\"\n",
        "\n",
        "class Wheels:\n",
        "    def rotate(self):\n",
        "        return \"Wheels rotating\"\n",
        "\n",
        "class Car(Engine, Wheels):\n",
        "    pass\n",
        "\n",
        "car = Car()\n",
        "print(car.start())  # Output: Engine started\n",
        "print(car.rotate())  # Output: Wheels rotating\n"
      ],
      "metadata": {
        "id": "VQJ4fvFj7i_6"
      },
      "execution_count": null,
      "outputs": []
    },
    {
      "cell_type": "markdown",
      "source": [
        "**7. What is the Method Resolution Order (MRO) in Python? How can you retrieve it programmatically?**\n",
        "\n",
        "**Ans:**The Method Resolution Order (MRO) is the order in which methods are inherited from classes. In the context of multiple inheritance, MRO determines the sequence in which the base classes are searched when executing a method. Python uses the C3 linearization algorithm to determine this order."
      ],
      "metadata": {
        "id": "OHEvFkWU7xct"
      }
    },
    {
      "cell_type": "code",
      "source": [
        "# In this example, D inherits from both B and C. The MRO ensures that D uses B's say_hello method first, according to the order specified.\n",
        "class A:\n",
        "    def say_hello(self):\n",
        "        return \"Hello from A\"\n",
        "\n",
        "class B(A):\n",
        "    def say_hello(self):\n",
        "        return \"Hello from B\"\n",
        "\n",
        "class C(A):\n",
        "    def say_hello(self):\n",
        "        return \"Hello from C\"\n",
        "\n",
        "class D(B, C):\n",
        "    pass\n",
        "\n",
        "d = D()\n",
        "print(d.say_hello())  # Output: Hello from B\n"
      ],
      "metadata": {
        "id": "qJPJKz5J8Bs3"
      },
      "execution_count": null,
      "outputs": []
    },
    {
      "cell_type": "code",
      "source": [
        "# Q8. Create an abstract base class `Shape` with an abstract method `area()`. Then create two subclasses `Circle` and `Rectangle` that implement the `area()` method.\n",
        "\n",
        "import abc\n",
        "\n",
        "class Shape(abc.ABC):\n",
        "    @abc.abstractmethod\n",
        "    def area(self):\n",
        "        pass\n",
        "\n",
        "class Circle(Shape):\n",
        "    def __init__(self, radius):\n",
        "        self.radius = radius\n",
        "\n",
        "    def area(self):\n",
        "        return 3.14 * self.radius ** 2\n",
        "\n",
        "class Rectangle(Shape):\n",
        "    def __init__(self, width, height):\n",
        "        self.width = width\n",
        "        self.height = height\n",
        "\n",
        "    def area(self):\n",
        "        return self.width * self.height\n",
        "\n",
        "# Creating instances of Circle and Rectangle\n",
        "circle = Circle(radius=5)\n",
        "rectangle = Rectangle(width=4, height=6)\n",
        "\n",
        "# Displaying the areas of the shapes\n",
        "print(\"Circle area:\", circle.area())\n",
        "print(\"Rectangle area:\", rectangle.area())\n"
      ],
      "metadata": {
        "colab": {
          "base_uri": "https://localhost:8080/"
        },
        "id": "IPvxseKssEAS",
        "outputId": "e55f69c5-6390-44ef-d700-c1aa3a91452d"
      },
      "execution_count": null,
      "outputs": [
        {
          "output_type": "stream",
          "name": "stdout",
          "text": [
            "Circle area: 78.5\n",
            "Rectangle area: 24\n"
          ]
        }
      ]
    },
    {
      "cell_type": "code",
      "source": [
        "#Q9 Demonstrate polymorphism by creating a function that can work with different shape objects to calculate and print their areas.\n",
        "\n",
        "class Shape:\n",
        "    def area(self):\n",
        "        pass  # This will be overridden by subclasses\n",
        "\n",
        "class Rectangle(Shape):\n",
        "    def __init__(self, width, height):\n",
        "        self.width = width\n",
        "        self.height = height\n",
        "\n",
        "    def area(self):\n",
        "        return self.width * self.height\n",
        "\n",
        "class Circle(Shape):\n",
        "    def __init__(self, radius):\n",
        "        self.radius = radius\n",
        "\n",
        "    def area(self):\n",
        "        return 3.14 * self.radius * self.radius\n",
        "\n",
        "class Triangle(Shape):\n",
        "    def __init__(self, base, height):\n",
        "        self.base = base\n",
        "        self.height = height\n",
        "\n",
        "    def area(self):\n",
        "        return 0.5 * self.base * self.height\n",
        "\n",
        "def print_area(shape):\n",
        "    print(f\"The area is: {shape.area()}\")\n",
        "\n",
        "# Creating objects of different shapes\n",
        "rectangle = Rectangle(4, 5)\n",
        "circle = Circle(3)\n",
        "triangle = Triangle(6, 7)\n",
        "\n",
        "# Demonstrating polymorphism\n",
        "print_area(rectangle)\n",
        "print_area(circle)\n",
        "print_area(triangle)\n"
      ],
      "metadata": {
        "colab": {
          "base_uri": "https://localhost:8080/"
        },
        "id": "kNRT1LxF8iUh",
        "outputId": "23b44144-726d-4438-f124-08ec9dba2ee8"
      },
      "execution_count": null,
      "outputs": [
        {
          "output_type": "stream",
          "name": "stdout",
          "text": [
            "The area is: 20\n",
            "The area is: 28.259999999999998\n",
            "The area is: 21.0\n"
          ]
        }
      ]
    },
    {
      "cell_type": "code",
      "source": [
        "# Q10. Implement encapsulation in a `BankAccount` class with private attributes for `balance` and `account_number`. Include methods for deposit, withdrawal, and balance inquiry.\n",
        "\n",
        "class BankAccount:\n",
        "    def __init__(self, account_number, balance):\n",
        "        self.__account_number = account_number\n",
        "        self.__balance = balance\n",
        "\n",
        "    def deposit(self, amount):\n",
        "        self.__balance += amount\n",
        "\n",
        "    def withdraw(self, amount):\n",
        "        if self.__balance >= amount:\n",
        "            self.__balance -= amount\n",
        "        else:\n",
        "            print(\"Insufficient balance\")\n",
        "\n",
        "    def get_balance(self):\n",
        "        return self.__balance\n",
        "\n",
        "# Creating an instance of the BankAccount class\n",
        "account = BankAccount(account_number=\"123456\", balance=1000)\n",
        "\n",
        "# Performing some transactions\n",
        "account.deposit(400)\n",
        "account.withdraw(100)\n",
        "\n",
        "# Displaying the current balance\n",
        "print(\"Balance:\", account.get_balance())\n"
      ],
      "metadata": {
        "colab": {
          "base_uri": "https://localhost:8080/"
        },
        "id": "MzTw9yOk0Nwv",
        "outputId": "75ff27c5-652e-48f1-a0f1-5e909bb985ea"
      },
      "execution_count": null,
      "outputs": [
        {
          "output_type": "stream",
          "name": "stdout",
          "text": [
            "Balance: 1300\n"
          ]
        }
      ]
    },
    {
      "cell_type": "markdown",
      "source": [
        "**Q11. Write a class that overrides the __str__ and __add__ magic methods. What will these methods allow you to do?**\n",
        "\n",
        "**Ans:** Magic methods in Python allow you to define how objects of your class should behave with respect to common operators and built-in functions. The __str__ method is used to define how an object should be represented as a string, it allows you to control the string representation of an object. When you print an object or convert it to a string with str(), the __str__ method is called.\n",
        "\n",
        "While the __add__ method allows you to define custom behavior for the + operator when used with objects of your class."
      ],
      "metadata": {
        "id": "IQY7AJxc84eO"
      }
    },
    {
      "cell_type": "code",
      "source": [
        "class Book:\n",
        "    def __init__(self, title, author, pages):\n",
        "        self.title = title\n",
        "        self.author = author\n",
        "        self.pages = pages\n",
        "\n",
        "    def __str__(self):\n",
        "        return f\"'{self.title}' by {self.author}, {self.pages} pages\"\n",
        "\n",
        "    def __add__(self, other):\n",
        "        if isinstance(other, Book):\n",
        "            return self.pages + other.pages\n",
        "        return NotImplemented\n",
        "\n",
        "# Creating instances of Book\n",
        "book1 = Book(\"Book One\", \"Author A\", 300)\n",
        "book2 = Book(\"Book Two\", \"Author B\", 400)\n",
        "\n",
        "# Using the __str__ method\n",
        "print(book1)  # Output: 'Book One' by Author A, 300 pages\n",
        "\n",
        "# Using the __add__ method\n",
        "total_pages = book1 + book2\n",
        "print(f\"Total pages: {total_pages}\")  # Output: Total pages: 700\n"
      ],
      "metadata": {
        "colab": {
          "base_uri": "https://localhost:8080/"
        },
        "id": "MsBdPGSF8_QG",
        "outputId": "4e6d80da-b337-4503-af48-37a265b07e2a"
      },
      "execution_count": null,
      "outputs": [
        {
          "output_type": "stream",
          "name": "stdout",
          "text": [
            "'Book One' by Author A, 300 pages\n",
            "Total pages: 700\n"
          ]
        }
      ]
    },
    {
      "cell_type": "code",
      "source": [
        "# Q12. Create a decorator that measures and prints the execution time of a function.\n",
        "\n",
        "import time\n",
        "\n",
        "def time_decorator(func):\n",
        "    def wrapper(*args, **kwargs):\n",
        "        start = time.perf_counter()\n",
        "        result = func(*args, **kwargs)  # Call the original function\n",
        "        end = time.perf_counter()\n",
        "        print(f\"The time taken for completion is: {end - start} seconds\")\n",
        "        return result\n",
        "    return wrapper\n",
        "\n",
        "@time_decorator\n",
        "def example_function():\n",
        "    print(1000 * 1000)\n",
        "\n",
        "# Calling the decorated function\n",
        "example_function()\n"
      ],
      "metadata": {
        "colab": {
          "base_uri": "https://localhost:8080/"
        },
        "id": "dR9zuAmOLH8V",
        "outputId": "04aaf852-a2c3-458e-e9b3-7b9750f357a3"
      },
      "execution_count": null,
      "outputs": [
        {
          "output_type": "stream",
          "name": "stdout",
          "text": [
            "1000000\n",
            "The time taken for completion is: 0.001903502999994089 seconds\n"
          ]
        }
      ]
    },
    {
      "cell_type": "markdown",
      "source": [
        "**Q13. Explain the concept of the Diamond Problem in multiple inheritance. How does Python resolve it?**\n",
        "\n",
        "**Ans:** The Diamond Problem occurs in multiple inheritance scenarios where a class inherits from two classes that both inherit from a common base class. This can create ambiguity because the derived class could inherit the same method or attribute from multiple paths in the inheritance hierarchy. The name \"Diamond Problem\" comes from the diamond shape formed when you draw out the inheritance diagram.\n",
        "\n",
        "Python resolves the Diamond Problem using the Method Resolution Order (MRO), which follows the C3 linearization algorithm. This ensures that each class in the inheritance hierarchy is only considered once, in a consistent and predictable order. The MRO determines which method or attribute will be inherited when there are multiple possibilities, thereby preventing ambiguity and ensuring that the most specific implementation is used."
      ],
      "metadata": {
        "id": "fDE_TecG98Y7"
      }
    },
    {
      "cell_type": "code",
      "source": [
        "# Example:\n",
        " # class D inherits from both B and C, which in turn inherit from A. When d.greet() is called, Python resolves the ambiguity using\n",
        " # the MRO, which for class D is D -> B -> C -> A. This means the method in B is used first, resolving the Diamond Problem.\n",
        "\n",
        "class A:\n",
        "    def greet(self):\n",
        "        return \"Hello from A\"\n",
        "\n",
        "class B(A):\n",
        "    def greet(self):\n",
        "        return \"Hello from B\"\n",
        "\n",
        "class C(A):\n",
        "    def greet(self):\n",
        "        return \"Hello from C\"\n",
        "\n",
        "class D(B, C):\n",
        "    pass\n",
        "\n",
        "d = D()\n",
        "print(d.greet())\n"
      ],
      "metadata": {
        "colab": {
          "base_uri": "https://localhost:8080/"
        },
        "id": "7HquhPBw-ie4",
        "outputId": "7afc93f3-d6e4-417e-ce55-2a23c35a58fb"
      },
      "execution_count": null,
      "outputs": [
        {
          "output_type": "stream",
          "name": "stdout",
          "text": [
            "Hello from B\n"
          ]
        }
      ]
    },
    {
      "cell_type": "code",
      "source": [
        "# Q14. Write a class method that keeps track of the number of instances created from a class.\n",
        "\n",
        "class MyClass:\n",
        "    instance_count = 0  # Class-level variable to track instances\n",
        "\n",
        "    def __init__(self):\n",
        "        MyClass.instance_count += 1  # Increment the count when an instance is created\n",
        "\n",
        "    @classmethod\n",
        "    def get_instance_count(cls):\n",
        "        return cls.instance_count\n",
        "\n",
        "# Example usage:\n",
        "obj1 = MyClass()\n",
        "obj2 = MyClass()\n",
        "obj3 = MyClass()\n",
        "\n",
        "# Displaying the total number of instances created\n",
        "print(f\"Total instances created: {MyClass.get_instance_count()}\")\n"
      ],
      "metadata": {
        "colab": {
          "base_uri": "https://localhost:8080/"
        },
        "id": "yeuXgf3XRNMf",
        "outputId": "cc300ac8-815d-4bf6-c064-ebf5cb22c4ef"
      },
      "execution_count": null,
      "outputs": [
        {
          "output_type": "stream",
          "name": "stdout",
          "text": [
            "Total instances created: 3\n"
          ]
        }
      ]
    },
    {
      "cell_type": "code",
      "source": [
        "# Q15. Implement a static method in a class that checks if a given year is a leap year.\n",
        "\n",
        "class Year:\n",
        "    @staticmethod\n",
        "    def is_leap_year(year):\n",
        "        # Leap year check: divisible by 4 but not by 100 unless also divisible by 400\n",
        "        if (year % 4 == 0 and year % 100 != 0) or (year % 400 == 0):\n",
        "            return True\n",
        "        return False\n",
        "\n",
        "# Example usage:\n",
        "print(Year.is_leap_year(2024))\n",
        "print(Year.is_leap_year(2023))\n"
      ],
      "metadata": {
        "colab": {
          "base_uri": "https://localhost:8080/"
        },
        "id": "z_-1JkvkSg0r",
        "outputId": "9d22c218-5949-4724-b71a-f3d1d537a26b"
      },
      "execution_count": null,
      "outputs": [
        {
          "output_type": "stream",
          "name": "stdout",
          "text": [
            "True\n",
            "False\n"
          ]
        }
      ]
    },
    {
      "cell_type": "code",
      "source": [],
      "metadata": {
        "id": "TypvF8duSnu3"
      },
      "execution_count": null,
      "outputs": []
    }
  ]
}